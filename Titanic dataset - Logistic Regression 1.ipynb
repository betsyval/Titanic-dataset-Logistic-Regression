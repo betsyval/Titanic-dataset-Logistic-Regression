{
 "cells": [
  {
   "cell_type": "markdown",
   "id": "91d71af2-d1c3-49c0-b133-e39043d6629d",
   "metadata": {},
   "source": [
    "# Homework"
   ]
  },
  {
   "cell_type": "markdown",
   "id": "0a23b5db-e76c-45b0-9292-8e1afe230e6a",
   "metadata": {},
   "source": [
    "Remember to load the necessary libraries. "
   ]
  },
  {
   "cell_type": "code",
   "execution_count": 1,
   "id": "09ea38c2-e3e0-46fc-8487-3ec532e13b54",
   "metadata": {},
   "outputs": [],
   "source": [
    "import numpy as np\n",
    "import pandas as pd\n",
    "\n",
    "from matplotlib import pyplot as plt \n",
    "import seaborn as sns\n",
    "sns.set_theme()\n",
    "sns.set(rc={'figure.figsize':(9, 5)})\n",
    "\n",
    "from sklearn.linear_model import LogisticRegression\n",
    "from sklearn.model_selection import train_test_split\n",
    "from sklearn.metrics import confusion_matrix"
   ]
  },
  {
   "cell_type": "markdown",
   "id": "ddfacfd9-0a57-46da-a237-2e7ccbe3ef6b",
   "metadata": {},
   "source": [
    "The following dataset is a [well known dataset](https://www.kaggle.com/c/titanic) containing data on the passengers of the Titanic. Check out [this Kaggle page](https://www.kaggle.com/competitions/titanic/data) for more information on the variables contained in the dataset. Conveniently enough, a copy of this dataset can be loaded via the `seaborn` library."
   ]
  },
  {
   "cell_type": "code",
   "execution_count": 2,
   "id": "8517d53b-44b0-4964-a4d8-cee4fe74a176",
   "metadata": {},
   "outputs": [
    {
     "data": {
      "text/html": [
       "<div>\n",
       "<style scoped>\n",
       "    .dataframe tbody tr th:only-of-type {\n",
       "        vertical-align: middle;\n",
       "    }\n",
       "\n",
       "    .dataframe tbody tr th {\n",
       "        vertical-align: top;\n",
       "    }\n",
       "\n",
       "    .dataframe thead th {\n",
       "        text-align: right;\n",
       "    }\n",
       "</style>\n",
       "<table border=\"1\" class=\"dataframe\">\n",
       "  <thead>\n",
       "    <tr style=\"text-align: right;\">\n",
       "      <th></th>\n",
       "      <th>survived</th>\n",
       "      <th>pclass</th>\n",
       "      <th>sex</th>\n",
       "      <th>age</th>\n",
       "      <th>sibsp</th>\n",
       "      <th>parch</th>\n",
       "      <th>fare</th>\n",
       "      <th>embarked</th>\n",
       "      <th>class</th>\n",
       "      <th>who</th>\n",
       "      <th>adult_male</th>\n",
       "      <th>deck</th>\n",
       "      <th>embark_town</th>\n",
       "      <th>alive</th>\n",
       "      <th>alone</th>\n",
       "    </tr>\n",
       "  </thead>\n",
       "  <tbody>\n",
       "    <tr>\n",
       "      <th>0</th>\n",
       "      <td>0</td>\n",
       "      <td>3</td>\n",
       "      <td>male</td>\n",
       "      <td>22.0</td>\n",
       "      <td>1</td>\n",
       "      <td>0</td>\n",
       "      <td>7.2500</td>\n",
       "      <td>S</td>\n",
       "      <td>Third</td>\n",
       "      <td>man</td>\n",
       "      <td>True</td>\n",
       "      <td>NaN</td>\n",
       "      <td>Southampton</td>\n",
       "      <td>no</td>\n",
       "      <td>False</td>\n",
       "    </tr>\n",
       "    <tr>\n",
       "      <th>1</th>\n",
       "      <td>1</td>\n",
       "      <td>1</td>\n",
       "      <td>female</td>\n",
       "      <td>38.0</td>\n",
       "      <td>1</td>\n",
       "      <td>0</td>\n",
       "      <td>71.2833</td>\n",
       "      <td>C</td>\n",
       "      <td>First</td>\n",
       "      <td>woman</td>\n",
       "      <td>False</td>\n",
       "      <td>C</td>\n",
       "      <td>Cherbourg</td>\n",
       "      <td>yes</td>\n",
       "      <td>False</td>\n",
       "    </tr>\n",
       "    <tr>\n",
       "      <th>2</th>\n",
       "      <td>1</td>\n",
       "      <td>3</td>\n",
       "      <td>female</td>\n",
       "      <td>26.0</td>\n",
       "      <td>0</td>\n",
       "      <td>0</td>\n",
       "      <td>7.9250</td>\n",
       "      <td>S</td>\n",
       "      <td>Third</td>\n",
       "      <td>woman</td>\n",
       "      <td>False</td>\n",
       "      <td>NaN</td>\n",
       "      <td>Southampton</td>\n",
       "      <td>yes</td>\n",
       "      <td>True</td>\n",
       "    </tr>\n",
       "    <tr>\n",
       "      <th>3</th>\n",
       "      <td>1</td>\n",
       "      <td>1</td>\n",
       "      <td>female</td>\n",
       "      <td>35.0</td>\n",
       "      <td>1</td>\n",
       "      <td>0</td>\n",
       "      <td>53.1000</td>\n",
       "      <td>S</td>\n",
       "      <td>First</td>\n",
       "      <td>woman</td>\n",
       "      <td>False</td>\n",
       "      <td>C</td>\n",
       "      <td>Southampton</td>\n",
       "      <td>yes</td>\n",
       "      <td>False</td>\n",
       "    </tr>\n",
       "    <tr>\n",
       "      <th>4</th>\n",
       "      <td>0</td>\n",
       "      <td>3</td>\n",
       "      <td>male</td>\n",
       "      <td>35.0</td>\n",
       "      <td>0</td>\n",
       "      <td>0</td>\n",
       "      <td>8.0500</td>\n",
       "      <td>S</td>\n",
       "      <td>Third</td>\n",
       "      <td>man</td>\n",
       "      <td>True</td>\n",
       "      <td>NaN</td>\n",
       "      <td>Southampton</td>\n",
       "      <td>no</td>\n",
       "      <td>True</td>\n",
       "    </tr>\n",
       "  </tbody>\n",
       "</table>\n",
       "</div>"
      ],
      "text/plain": [
       "   survived  pclass     sex   age  sibsp  parch     fare embarked  class  \\\n",
       "0         0       3    male  22.0      1      0   7.2500        S  Third   \n",
       "1         1       1  female  38.0      1      0  71.2833        C  First   \n",
       "2         1       3  female  26.0      0      0   7.9250        S  Third   \n",
       "3         1       1  female  35.0      1      0  53.1000        S  First   \n",
       "4         0       3    male  35.0      0      0   8.0500        S  Third   \n",
       "\n",
       "     who  adult_male deck  embark_town alive  alone  \n",
       "0    man        True  NaN  Southampton    no  False  \n",
       "1  woman       False    C    Cherbourg   yes  False  \n",
       "2  woman       False  NaN  Southampton   yes   True  \n",
       "3  woman       False    C  Southampton   yes  False  \n",
       "4    man        True  NaN  Southampton    no   True  "
      ]
     },
     "execution_count": 2,
     "metadata": {},
     "output_type": "execute_result"
    }
   ],
   "source": [
    "df = sns.load_dataset('titanic')\n",
    "df.head()"
   ]
  },
  {
   "cell_type": "markdown",
   "id": "a196fed6-e249-4b51-a2d1-7586e5861667",
   "metadata": {},
   "source": [
    "> Your task is to create a Logistic regression model that predicts which passengers survived the Titanic shipwreck.\n",
    "\n",
    "The guidelines below will help you remember the necessary steps to reach your goal:\n",
    "\n",
    "1. familiarise yourself with the data and explore both numeric and categorical variables that are available;\n",
    "2. look at the predictors that are available and decide which you want to include in the model (*hint: categorical variables need to be converted to dummies first*); \n",
    "3. remember to check for the possibility of multicollinearity between the regressors (*hint: `.corr()` is your friend*);\n",
    "4. once you're happy with your data, create a predictors matrix $X$ and a responce vector $y$ \n",
    "5. remember to split the data between training and test sets\n",
    "6. use `statsmodels` or the `sklearn` library to fit a Logistic regression model to the training data; \n",
    "7. check out the regressioin coefficients (optional to print them to screen); \n",
    "8. take the model you just trained and use it on the test set (`X_test`) to produce a vector of predictions `y_pred`; \n",
    "9. check the performance of the model using the appropriate evaluation metrics."
   ]
  },
  {
   "cell_type": "code",
   "execution_count": 3,
   "id": "58f0d329-7588-483d-849a-bc2fca7b1f79",
   "metadata": {},
   "outputs": [
    {
     "name": "stdout",
     "output_type": "stream",
     "text": [
      "<class 'pandas.core.frame.DataFrame'>\n",
      "RangeIndex: 891 entries, 0 to 890\n",
      "Data columns (total 15 columns):\n",
      " #   Column       Non-Null Count  Dtype   \n",
      "---  ------       --------------  -----   \n",
      " 0   survived     891 non-null    int64   \n",
      " 1   pclass       891 non-null    int64   \n",
      " 2   sex          891 non-null    object  \n",
      " 3   age          714 non-null    float64 \n",
      " 4   sibsp        891 non-null    int64   \n",
      " 5   parch        891 non-null    int64   \n",
      " 6   fare         891 non-null    float64 \n",
      " 7   embarked     889 non-null    object  \n",
      " 8   class        891 non-null    category\n",
      " 9   who          891 non-null    object  \n",
      " 10  adult_male   891 non-null    bool    \n",
      " 11  deck         203 non-null    category\n",
      " 12  embark_town  889 non-null    object  \n",
      " 13  alive        891 non-null    object  \n",
      " 14  alone        891 non-null    bool    \n",
      "dtypes: bool(2), category(2), float64(2), int64(4), object(5)\n",
      "memory usage: 80.7+ KB\n"
     ]
    }
   ],
   "source": [
    "# 1- familiarize wuth the data, explore numeric and categorical\n",
    "df.info()"
   ]
  },
  {
   "cell_type": "code",
   "execution_count": 4,
   "id": "85546e94-7f49-4c7c-8445-f870babc1cf1",
   "metadata": {},
   "outputs": [
    {
     "data": {
      "text/html": [
       "<div>\n",
       "<style scoped>\n",
       "    .dataframe tbody tr th:only-of-type {\n",
       "        vertical-align: middle;\n",
       "    }\n",
       "\n",
       "    .dataframe tbody tr th {\n",
       "        vertical-align: top;\n",
       "    }\n",
       "\n",
       "    .dataframe thead th {\n",
       "        text-align: right;\n",
       "    }\n",
       "</style>\n",
       "<table border=\"1\" class=\"dataframe\">\n",
       "  <thead>\n",
       "    <tr style=\"text-align: right;\">\n",
       "      <th></th>\n",
       "      <th>survived</th>\n",
       "      <th>alive</th>\n",
       "      <th>size</th>\n",
       "    </tr>\n",
       "  </thead>\n",
       "  <tbody>\n",
       "    <tr>\n",
       "      <th>0</th>\n",
       "      <td>0</td>\n",
       "      <td>no</td>\n",
       "      <td>549</td>\n",
       "    </tr>\n",
       "    <tr>\n",
       "      <th>1</th>\n",
       "      <td>1</td>\n",
       "      <td>yes</td>\n",
       "      <td>342</td>\n",
       "    </tr>\n",
       "  </tbody>\n",
       "</table>\n",
       "</div>"
      ],
      "text/plain": [
       "   survived alive  size\n",
       "0         0    no   549\n",
       "1         1   yes   342"
      ]
     },
     "execution_count": 4,
     "metadata": {},
     "output_type": "execute_result"
    }
   ],
   "source": [
    "df.groupby(['survived', 'alive'], as_index=False).size()  #ok, nice"
   ]
  },
  {
   "cell_type": "code",
   "execution_count": 5,
   "id": "219a3622-469d-4504-9be0-ac83843f8f6f",
   "metadata": {},
   "outputs": [
    {
     "name": "stderr",
     "output_type": "stream",
     "text": [
      "C:\\Users\\valentib\\AppData\\Local\\Temp\\ipykernel_2360\\1485487744.py:7: UserWarning: Matplotlib is currently using module://matplotlib_inline.backend_inline, which is a non-GUI backend, so cannot show the figure.\n",
      "  fig.show()\n"
     ]
    },
    {
     "data": {
      "image/png": "[encoded data removed]",
      "text/plain": [
       "<Figure size 900x500 with 3 Axes>"
      ]
     },
     "metadata": {},
     "output_type": "display_data"
    }
   ],
   "source": [
    "#women and children first\n",
    "\n",
    "fig, ax =plt.subplots(1,3)\n",
    "sns.countplot(data=df, x='sex', hue='alive',  ax=ax[0])\n",
    "sns.countplot(data=df, x='who', hue='alive',ax=ax[1])\n",
    "sns.countplot(data=df, x='pclass', hue='alive', ax=ax[2] )\n",
    "fig.show()"
   ]
  },
  {
   "cell_type": "code",
   "execution_count": 6,
   "id": "4f4e496d-10b0-40eb-abbc-d195522d5207",
   "metadata": {},
   "outputs": [
    {
     "data": {
      "image/png": "[encoded data removed]",
      "text/plain": [
       "<Figure size 900x500 with 1 Axes>"
      ]
     },
     "metadata": {},
     "output_type": "display_data"
    }
   ],
   "source": [
    "x = np.array(df['age'])\n",
    "ax1 = sns.histplot(data=df, x=\"age\",hue='alive', bins=10)"
   ]
  },
  {
   "cell_type": "code",
   "execution_count": 7,
   "id": "6e3ec42e-9d18-4850-8d4e-bd04bdb11813",
   "metadata": {},
   "outputs": [
    {
     "data": {
      "text/plain": [
       "<AxesSubplot:xlabel='who', ylabel='age'>"
      ]
     },
     "execution_count": 7,
     "metadata": {},
     "output_type": "execute_result"
    },
    {
     "data": {
      "image/png": "[encoded data removed]",
      "text/plain": [
       "<Figure size 900x500 with 1 Axes>"
      ]
     },
     "metadata": {},
     "output_type": "display_data"
    }
   ],
   "source": [
    "sns.boxplot(data=df, x=\"who\",y=\"age\")"
   ]
  },
  {
   "cell_type": "code",
   "execution_count": 8,
   "id": "18210b24-d5de-49d3-8712-4a692fb44236",
   "metadata": {},
   "outputs": [],
   "source": [
    "#2- look at the predictors that are available and decide which you want to include in the model\n",
    "#I want to include sex, who_child, pclass."
   ]
  },
  {
   "cell_type": "code",
   "execution_count": 9,
   "id": "81e84365-34fc-4889-9a97-e11849548dff",
   "metadata": {},
   "outputs": [
    {
     "data": {
      "text/html": [
       "<div>\n",
       "<style scoped>\n",
       "    .dataframe tbody tr th:only-of-type {\n",
       "        vertical-align: middle;\n",
       "    }\n",
       "\n",
       "    .dataframe tbody tr th {\n",
       "        vertical-align: top;\n",
       "    }\n",
       "\n",
       "    .dataframe thead th {\n",
       "        text-align: right;\n",
       "    }\n",
       "</style>\n",
       "<table border=\"1\" class=\"dataframe\">\n",
       "  <thead>\n",
       "    <tr style=\"text-align: right;\">\n",
       "      <th></th>\n",
       "      <th>survived</th>\n",
       "      <th>age</th>\n",
       "      <th>sibsp</th>\n",
       "      <th>parch</th>\n",
       "      <th>fare</th>\n",
       "      <th>embarked</th>\n",
       "      <th>class</th>\n",
       "      <th>adult_male</th>\n",
       "      <th>deck</th>\n",
       "      <th>embark_town</th>\n",
       "      <th>alive</th>\n",
       "      <th>alone</th>\n",
       "      <th>who_child</th>\n",
       "      <th>who_man</th>\n",
       "      <th>who_woman</th>\n",
       "      <th>pclass_1</th>\n",
       "      <th>pclass_2</th>\n",
       "      <th>pclass_3</th>\n",
       "      <th>sex_female</th>\n",
       "      <th>sex_male</th>\n",
       "    </tr>\n",
       "  </thead>\n",
       "  <tbody>\n",
       "    <tr>\n",
       "      <th>0</th>\n",
       "      <td>0</td>\n",
       "      <td>22.0</td>\n",
       "      <td>1</td>\n",
       "      <td>0</td>\n",
       "      <td>7.2500</td>\n",
       "      <td>S</td>\n",
       "      <td>Third</td>\n",
       "      <td>True</td>\n",
       "      <td>NaN</td>\n",
       "      <td>Southampton</td>\n",
       "      <td>no</td>\n",
       "      <td>False</td>\n",
       "      <td>0</td>\n",
       "      <td>1</td>\n",
       "      <td>0</td>\n",
       "      <td>0</td>\n",
       "      <td>0</td>\n",
       "      <td>1</td>\n",
       "      <td>0</td>\n",
       "      <td>1</td>\n",
       "    </tr>\n",
       "    <tr>\n",
       "      <th>1</th>\n",
       "      <td>1</td>\n",
       "      <td>38.0</td>\n",
       "      <td>1</td>\n",
       "      <td>0</td>\n",
       "      <td>71.2833</td>\n",
       "      <td>C</td>\n",
       "      <td>First</td>\n",
       "      <td>False</td>\n",
       "      <td>C</td>\n",
       "      <td>Cherbourg</td>\n",
       "      <td>yes</td>\n",
       "      <td>False</td>\n",
       "      <td>0</td>\n",
       "      <td>0</td>\n",
       "      <td>1</td>\n",
       "      <td>1</td>\n",
       "      <td>0</td>\n",
       "      <td>0</td>\n",
       "      <td>1</td>\n",
       "      <td>0</td>\n",
       "    </tr>\n",
       "    <tr>\n",
       "      <th>2</th>\n",
       "      <td>1</td>\n",
       "      <td>26.0</td>\n",
       "      <td>0</td>\n",
       "      <td>0</td>\n",
       "      <td>7.9250</td>\n",
       "      <td>S</td>\n",
       "      <td>Third</td>\n",
       "      <td>False</td>\n",
       "      <td>NaN</td>\n",
       "      <td>Southampton</td>\n",
       "      <td>yes</td>\n",
       "      <td>True</td>\n",
       "      <td>0</td>\n",
       "      <td>0</td>\n",
       "      <td>1</td>\n",
       "      <td>0</td>\n",
       "      <td>0</td>\n",
       "      <td>1</td>\n",
       "      <td>1</td>\n",
       "      <td>0</td>\n",
       "    </tr>\n",
       "    <tr>\n",
       "      <th>3</th>\n",
       "      <td>1</td>\n",
       "      <td>35.0</td>\n",
       "      <td>1</td>\n",
       "      <td>0</td>\n",
       "      <td>53.1000</td>\n",
       "      <td>S</td>\n",
       "      <td>First</td>\n",
       "      <td>False</td>\n",
       "      <td>C</td>\n",
       "      <td>Southampton</td>\n",
       "      <td>yes</td>\n",
       "      <td>False</td>\n",
       "      <td>0</td>\n",
       "      <td>0</td>\n",
       "      <td>1</td>\n",
       "      <td>1</td>\n",
       "      <td>0</td>\n",
       "      <td>0</td>\n",
       "      <td>1</td>\n",
       "      <td>0</td>\n",
       "    </tr>\n",
       "    <tr>\n",
       "      <th>4</th>\n",
       "      <td>0</td>\n",
       "      <td>35.0</td>\n",
       "      <td>0</td>\n",
       "      <td>0</td>\n",
       "      <td>8.0500</td>\n",
       "      <td>S</td>\n",
       "      <td>Third</td>\n",
       "      <td>True</td>\n",
       "      <td>NaN</td>\n",
       "      <td>Southampton</td>\n",
       "      <td>no</td>\n",
       "      <td>True</td>\n",
       "      <td>0</td>\n",
       "      <td>1</td>\n",
       "      <td>0</td>\n",
       "      <td>0</td>\n",
       "      <td>0</td>\n",
       "      <td>1</td>\n",
       "      <td>0</td>\n",
       "      <td>1</td>\n",
       "    </tr>\n",
       "  </tbody>\n",
       "</table>\n",
       "</div>"
      ],
      "text/plain": [
       "   survived   age  sibsp  parch     fare embarked  class  adult_male deck  \\\n",
       "0         0  22.0      1      0   7.2500        S  Third        True  NaN   \n",
       "1         1  38.0      1      0  71.2833        C  First       False    C   \n",
       "2         1  26.0      0      0   7.9250        S  Third       False  NaN   \n",
       "3         1  35.0      1      0  53.1000        S  First       False    C   \n",
       "4         0  35.0      0      0   8.0500        S  Third        True  NaN   \n",
       "\n",
       "   embark_town alive  alone  who_child  who_man  who_woman  pclass_1  \\\n",
       "0  Southampton    no  False          0        1          0         0   \n",
       "1    Cherbourg   yes  False          0        0          1         1   \n",
       "2  Southampton   yes   True          0        0          1         0   \n",
       "3  Southampton   yes  False          0        0          1         1   \n",
       "4  Southampton    no   True          0        1          0         0   \n",
       "\n",
       "   pclass_2  pclass_3  sex_female  sex_male  \n",
       "0         0         1           0         1  \n",
       "1         0         0           1         0  \n",
       "2         0         1           1         0  \n",
       "3         0         0           1         0  \n",
       "4         0         1           0         1  "
      ]
     },
     "execution_count": 9,
     "metadata": {},
     "output_type": "execute_result"
    }
   ],
   "source": [
    "df2 = pd.get_dummies(df, columns=[\"who\"])\n",
    "df2 = pd.get_dummies(df2, columns=[\"pclass\"])\n",
    "df2 = pd.get_dummies(df2, columns=[\"sex\"])\n",
    "df2.head()"
   ]
  },
  {
   "cell_type": "code",
   "execution_count": 10,
   "id": "d25518fa-58ea-41a6-a3c9-d36760fad6ef",
   "metadata": {},
   "outputs": [
    {
     "data": {
      "text/html": [
       "<div>\n",
       "<style scoped>\n",
       "    .dataframe tbody tr th:only-of-type {\n",
       "        vertical-align: middle;\n",
       "    }\n",
       "\n",
       "    .dataframe tbody tr th {\n",
       "        vertical-align: top;\n",
       "    }\n",
       "\n",
       "    .dataframe thead th {\n",
       "        text-align: right;\n",
       "    }\n",
       "</style>\n",
       "<table border=\"1\" class=\"dataframe\">\n",
       "  <thead>\n",
       "    <tr style=\"text-align: right;\">\n",
       "      <th></th>\n",
       "      <th>survived</th>\n",
       "      <th>who_child</th>\n",
       "      <th>who_woman</th>\n",
       "      <th>pclass_1</th>\n",
       "      <th>pclass_3</th>\n",
       "      <th>sex_male</th>\n",
       "    </tr>\n",
       "  </thead>\n",
       "  <tbody>\n",
       "    <tr>\n",
       "      <th>survived</th>\n",
       "      <td>1.000000</td>\n",
       "      <td>0.136107</td>\n",
       "      <td>0.506562</td>\n",
       "      <td>0.285904</td>\n",
       "      <td>-0.322308</td>\n",
       "      <td>-0.543351</td>\n",
       "    </tr>\n",
       "    <tr>\n",
       "      <th>who_child</th>\n",
       "      <td>0.136107</td>\n",
       "      <td>1.000000</td>\n",
       "      <td>-0.211896</td>\n",
       "      <td>-0.127241</td>\n",
       "      <td>0.095193</td>\n",
       "      <td>-0.111141</td>\n",
       "    </tr>\n",
       "    <tr>\n",
       "      <th>who_woman</th>\n",
       "      <td>0.506562</td>\n",
       "      <td>-0.211896</td>\n",
       "      <td>1.000000</td>\n",
       "      <td>0.144043</td>\n",
       "      <td>-0.173333</td>\n",
       "      <td>-0.896214</td>\n",
       "    </tr>\n",
       "    <tr>\n",
       "      <th>pclass_1</th>\n",
       "      <td>0.285904</td>\n",
       "      <td>-0.127241</td>\n",
       "      <td>0.144043</td>\n",
       "      <td>1.000000</td>\n",
       "      <td>-0.626738</td>\n",
       "      <td>-0.098013</td>\n",
       "    </tr>\n",
       "    <tr>\n",
       "      <th>pclass_3</th>\n",
       "      <td>-0.322308</td>\n",
       "      <td>0.095193</td>\n",
       "      <td>-0.173333</td>\n",
       "      <td>-0.626738</td>\n",
       "      <td>1.000000</td>\n",
       "      <td>0.137143</td>\n",
       "    </tr>\n",
       "    <tr>\n",
       "      <th>sex_male</th>\n",
       "      <td>-0.543351</td>\n",
       "      <td>-0.111141</td>\n",
       "      <td>-0.896214</td>\n",
       "      <td>-0.098013</td>\n",
       "      <td>0.137143</td>\n",
       "      <td>1.000000</td>\n",
       "    </tr>\n",
       "  </tbody>\n",
       "</table>\n",
       "</div>"
      ],
      "text/plain": [
       "           survived  who_child  who_woman  pclass_1  pclass_3  sex_male\n",
       "survived   1.000000   0.136107   0.506562  0.285904 -0.322308 -0.543351\n",
       "who_child  0.136107   1.000000  -0.211896 -0.127241  0.095193 -0.111141\n",
       "who_woman  0.506562  -0.211896   1.000000  0.144043 -0.173333 -0.896214\n",
       "pclass_1   0.285904  -0.127241   0.144043  1.000000 -0.626738 -0.098013\n",
       "pclass_3  -0.322308   0.095193  -0.173333 -0.626738  1.000000  0.137143\n",
       "sex_male  -0.543351  -0.111141  -0.896214 -0.098013  0.137143  1.000000"
      ]
     },
     "execution_count": 10,
     "metadata": {},
     "output_type": "execute_result"
    }
   ],
   "source": [
    "#3- check for multicollinarity\n",
    "df2[['survived','who_child', 'who_woman','pclass_1','pclass_3','sex_male']].corr()  #only correlation with the woman/males, seems nice."
   ]
  },
  {
   "cell_type": "code",
   "execution_count": 11,
   "id": "e6525797-bfa3-4b5a-8b9c-cc078acc49b7",
   "metadata": {},
   "outputs": [],
   "source": [
    "#4- once you're happy with your data, create a predictors matrix 𝑋 and a responce vector 𝑦\n",
    "y = df2['survived']\n",
    "X = df2[['who_child', 'who_woman','pclass_1','pclass_3','sex_male']]"
   ]
  },
  {
   "cell_type": "code",
   "execution_count": 12,
   "id": "98c3b22c-6d18-414c-b58a-adbd65c4cb94",
   "metadata": {},
   "outputs": [],
   "source": [
    "#5- remember to split the data between training and test sets\n",
    "X_train, X_test, y_train, y_test = train_test_split(X, y, test_size=0.3, random_state=42)"
   ]
  },
  {
   "cell_type": "code",
   "execution_count": 13,
   "id": "a7cc6aa7-46a7-4009-b23d-c55e29f00d3e",
   "metadata": {},
   "outputs": [
    {
     "name": "stdout",
     "output_type": "stream",
     "text": [
      "Intercept: [-0.25849329]\n",
      "Coefficients: [ 1.81479563  1.76289031  0.61222956 -1.20430724 -0.96079599]\n"
     ]
    }
   ],
   "source": [
    "#6- use statsmodels or the sklearn library to fit a Logistic regression model to the training data; \n",
    "log_reg = LogisticRegression(max_iter=1000)\n",
    "log_reg.fit(X_train, y_train)\n",
    "\n",
    "#7- check out the regressioin coefficients (optional to print them to screen); \n",
    "print('Intercept:', log_reg.intercept_)\n",
    "print('Coefficients:', log_reg.coef_[0])"
   ]
  },
  {
   "cell_type": "code",
   "execution_count": 14,
   "id": "c6109658-7f34-4cf9-840d-752175610703",
   "metadata": {},
   "outputs": [
    {
     "data": {
      "text/plain": [
       "0.8022388059701493"
      ]
     },
     "execution_count": 14,
     "metadata": {},
     "output_type": "execute_result"
    }
   ],
   "source": [
    "#8- take the model you just trained and use it on the test set (X_test) to produce a vector of predictions y_pred\n",
    "y_pred = log_reg.predict(X_test)\n",
    "\n",
    "np.mean(y_pred==y_test)"
   ]
  },
  {
   "cell_type": "code",
   "execution_count": 15,
   "id": "1c94ea49-4cca-40c4-8aff-c56ed86969f1",
   "metadata": {},
   "outputs": [
    {
     "data": {
      "image/png": "[encoded data removed]",
      "text/plain": [
       "<Figure size 900x500 with 2 Axes>"
      ]
     },
     "metadata": {},
     "output_type": "display_data"
    }
   ],
   "source": [
    "from sklearn import metrics\n",
    "cm = metrics.confusion_matrix(y_test, y_pred)\n",
    "\n",
    "# visualization of the Confusion Matrix\n",
    "sns.set(font_scale=2)\n",
    "\n",
    "ax = sns.heatmap(cm, annot=True, cmap='Blues')\n",
    "\n",
    "ax.set_title('Confusion Matrix with labels\\n');\n",
    "ax.set_xlabel('\\nPredicted Values')\n",
    "ax.set_ylabel('Actual Values \\n');\n",
    "\n",
    "ax.yaxis.set_ticklabels(['0','1'])\n",
    "ax.xaxis.set_ticklabels(['0','1'])\n",
    "\n",
    "plt.show()"
   ]
  },
  {
   "cell_type": "code",
   "execution_count": null,
   "id": "b9cfb2bf-3a06-476c-916d-ed18a1fcc629",
   "metadata": {},
   "outputs": [],
   "source": []
  }
 ],
 "metadata": {
  "kernelspec": {
   "display_name": "Python 3",
   "language": "python",
   "name": "python3"
  },
  "language_info": {
   "codemirror_mode": {
    "name": "ipython",
    "version": 3
   },
   "file_extension": ".py",
   "mimetype": "text/x-python",
   "name": "python",
   "nbconvert_exporter": "python",
   "pygments_lexer": "ipython3",
   "version": "3.10.6"
  }
 },
 "nbformat": 4,
 "nbformat_minor": 5
}
